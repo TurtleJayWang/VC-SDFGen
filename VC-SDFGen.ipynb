{
 "cells": [
  {
   "cell_type": "markdown",
   "metadata": {},
   "source": [
    "# Download Codes"
   ]
  },
  {
   "cell_type": "code",
   "execution_count": null,
   "metadata": {},
   "outputs": [],
   "source": [
    "%git clone https://github.com/TurtleJayWang/VC-SDFGen.git\n",
    "import os\n",
    "import sys\n",
    "os.chdir('VC-SDFGen')\n",
    "sys.path.append(os.getcwd())"
   ]
  },
  {
   "cell_type": "markdown",
   "metadata": {},
   "source": [
    "# Train Voxel SDF"
   ]
  },
  {
   "cell_type": "markdown",
   "metadata": {},
   "source": [
    "## Data preparation\n",
    "In this notebook, we use data downloaded from kaggle using kagglehub"
   ]
  },
  {
   "cell_type": "code",
   "execution_count": null,
   "metadata": {},
   "outputs": [],
   "source": [
    "import kagglehub\n",
    "kagglehub.login()\n",
    "shapenetsdf_path = kagglehub.download_dataset(\"turtlejaywang/shapenetsdf\")"
   ]
  },
  {
   "cell_type": "markdown",
   "metadata": {},
   "source": [
    "## Training Loop\n",
    "* **VoxelSDFTraining** : This is the trainer which handles the training of voxel sdf model\n",
    "* **VoxelSDF** : This is the model which is trained, the trained parameter is saved to *result_dir*"
   ]
  },
  {
   "cell_type": "code",
   "execution_count": null,
   "metadata": {},
   "outputs": [],
   "source": [
    "import matplotlib.pyplot as plt\n",
    "import numpy as np\n",
    "\n",
    "from tqdm import tqdm\n",
    "from IPython.display import clear_output\n",
    "\n",
    "from train import VoxelSDFTraining\n",
    "from model.VoxelSDF import VoxelSDF\n",
    "\n",
    "voxelsdf_model = VoxelSDF(latent_dim=32, voxel_grid_size=8, num_layers=1, hidden_dim=128)\n",
    "\n",
    "voxelsdf_trainer = VoxelSDFTraining(\n",
    "    voxelsdf_model=voxelsdf_model,\n",
    "    dataset_path=shapenetsdf_path,\n",
    "    result_dir=\"results\",\n",
    "    epochs=250, batch_size=32\n",
    ")\n",
    "\n",
    "losses = []\n",
    "for e, loss in tqdm(voxelsdf_trainer):\n",
    "    losses.append(loss)\n",
    "    if e % 10 == 0:\n",
    "        clear_output()\n",
    "        x = np.arange(len(losses))\n",
    "        plt.plot(x, losses)\n",
    "        plt.xlabel('Epoch')\n",
    "        plt.ylabel('Loss')\n",
    "        plt.title('Training Loss')"
   ]
  }
 ],
 "metadata": {
  "kernelspec": {
   "display_name": "Research",
   "language": "python",
   "name": "python3"
  },
  "language_info": {
   "name": "python",
   "version": "3.13.2"
  }
 },
 "nbformat": 4,
 "nbformat_minor": 2
}
