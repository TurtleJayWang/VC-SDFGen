{
 "cells": [
  {
   "cell_type": "markdown",
   "metadata": {},
   "source": [
    "# Download Codes"
   ]
  },
  {
   "cell_type": "code",
   "execution_count": null,
   "metadata": {},
   "outputs": [],
   "source": [
    "!git clone https://github.com/TurtleJayWang/VC-SDFGen.git\n",
    "import os\n",
    "import sys\n",
    "os.chdir('VC-SDFGen')\n",
    "sys.path.append(os.getcwd())"
   ]
  },
  {
   "cell_type": "code",
   "execution_count": null,
   "metadata": {},
   "outputs": [],
   "source": [
    "!git pull"
   ]
  },
  {
   "cell_type": "markdown",
   "metadata": {},
   "source": [
    "# Train Voxel SDF"
   ]
  },
  {
   "cell_type": "markdown",
   "metadata": {},
   "source": [
    "## Data preparation\n",
    "In this notebook, we use data downloaded from kaggle using kagglehub"
   ]
  },
  {
   "cell_type": "code",
   "execution_count": 3,
   "metadata": {},
   "outputs": [],
   "source": [
    "import kagglehub\n",
    "shapenetsdf_path = kagglehub.dataset_download(\"turtlejaywang/shapenetsdf\")"
   ]
  },
  {
   "cell_type": "markdown",
   "metadata": {},
   "source": [
    "## Training Loop\n",
    "* **VoxelSDFTraining** : This is the trainer which handles the training of voxel sdf model\n",
    "* **VoxelSDF** : This is the model which is trained, the trained parameter is saved to *result_dir*"
   ]
  },
  {
   "cell_type": "code",
   "execution_count": null,
   "metadata": {},
   "outputs": [],
   "source": [
    "import matplotlib.pyplot as plt\n",
    "import numpy as np\n",
    "\n",
    "from tqdm import tqdm\n",
    "from IPython.display import clear_output\n",
    "\n",
    "from train import VoxelSDFTraining\n",
    "from model.VoxelSDF import VoxelSDF\n",
    "\n",
    "voxelsdf_model = VoxelSDF(latent_dim=32, voxel_grid_size=8, num_layers=4, hidden_dim=64)\n",
    "\n",
    "voxelsdf_trainer = VoxelSDFTraining(\n",
    "    voxelsdf_model=voxelsdf_model,\n",
    "    dataset_path=shapenetsdf_path,\n",
    "    result_dir=\"results\",\n",
    "    epochs=2000, batch_size=192\n",
    ")\n",
    "\n",
    "losses = []\n",
    "for e, loss in tqdm(voxelsdf_trainer):\n",
    "    losses.append(loss)\n",
    "    if e % 10 == 0:\n",
    "        clear_output()\n",
    "        x = np.arange(len(losses))\n",
    "        plt.plot(x, losses)\n",
    "        plt.xlabel('Epoch')\n",
    "        plt.ylabel('Loss')\n",
    "        plt.title('Training Loss')\n",
    "        plt.show()"
   ]
  },
  {
   "cell_type": "code",
   "execution_count": null,
   "metadata": {},
   "outputs": [],
   "source": [
    "%pip install trimesh"
   ]
  },
  {
   "cell_type": "code",
   "execution_count": null,
   "metadata": {},
   "outputs": [],
   "source": [
    "from visualize import Visualizer\n",
    "import random\n",
    "\n",
    "generate_index = random.randint(0, len(voxelsdf_trainer.dataset))\n",
    "visualizer = Visualizer(voxelsdf_model, voxelsdf_trainer.embeddings)\n",
    "visualizer.generate_sdf_objs(generate_index)"
   ]
  }
 ],
 "metadata": {
  "kernelspec": {
   "display_name": "Research",
   "language": "python",
   "name": "python3"
  },
  "language_info": {
   "codemirror_mode": {
    "name": "ipython",
    "version": 3
   },
   "file_extension": ".py",
   "mimetype": "text/x-python",
   "name": "python",
   "nbconvert_exporter": "python",
   "pygments_lexer": "ipython3",
   "version": "3.13.2"
  }
 },
 "nbformat": 4,
 "nbformat_minor": 2
}
